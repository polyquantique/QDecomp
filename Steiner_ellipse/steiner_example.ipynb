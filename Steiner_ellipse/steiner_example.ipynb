{
 "cells": [
  {
   "cell_type": "markdown",
   "metadata": {},
   "source": [
    "# Using the `steiner_ellipse.py` module"
   ]
  },
  {
   "cell_type": "markdown",
   "metadata": {},
   "source": [
    "## Steiner algorithm\n",
    "The **Steiner algorithm** is used to find the smallest that encloses three given points: \n",
    "$\\vec{p}_1$, $\\vec{p}_2$ and $\\vec{p}_3$.\n",
    "This minimal enclosing ellipse is known as the *Steiner ellipse*, and it is centered at the \n",
    "**centroid** of the triangle formed by these three points.\n",
    "\n",
    "In this notebook, we will implement the Steiner algorithm to find the enclosing ellipse and \n",
    "visualize it. \n",
    "\n",
    "The centroid $\\vec{p}$ of the ellipse is calculated as the average of the three input points, \n",
    "ensuring that the ellipse is symmetrically centered with respect to these points. \n",
    "The resulting ellipse is the smallest possible ellipse that passes through the given points.\n",
    "\n",
    "For further details on the mathematical formulation and properties of the Steiner ellipse, you can \n",
    "refer to its [Wikipedia page](https://en.wikipedia.org/wiki/Steiner_ellipse).\n",
    "\n",
    "---"
   ]
  },
  {
   "cell_type": "markdown",
   "metadata": {},
   "source": [
    "## Matrix definition of an ellipse\n",
    "An ellipse can be defined with\n",
    "$(\\vec{u} - \\vec{p})^\\dag \\cdot D \\cdot (\\vec{u} - \\vec{p}) \\leq 1$\n",
    "where $\\vec{p}$ is the center of the ellipse and $D$ is its matrix definition.\n",
    "All the points $\\vec{u}$ that verify this equation are inside the ellipse."
   ]
  },
  {
   "cell_type": "markdown",
   "metadata": {},
   "source": [
    "## Steiner algorithm implementation\n",
    "This module contains two key functions for working with ellipses:\n",
    "\n",
    "1. **`steiner_ellipse_def()`**:  \n",
    "   This function implements the **Steiner algorithm** to find the smallest ellipse that encloses the three input points. It returns the matrix definition of the ellipse, which can be used to describe the ellipse mathematically. The returned result includes:\n",
    "   - **D**: The matrix that defines the ellipse.\n",
    "   - **p**: The center of the ellipse.\n",
    "\n",
    "2. **`is_inside_ellipse()`**:  \n",
    "   This function checks whether a given point lies inside the ellipse. It accepts either a single point or an array of points and returns a boolean value indicating if each point is inside the ellipse."
   ]
  },
  {
   "cell_type": "markdown",
   "metadata": {},
   "source": [
    "### Usage example\n",
    "The following cells in this notebook demonstrate how to use the `steiner_ellipse_def()` function to \n",
    "compute the smallest enclosing ellipse for three points. \n",
    "Additionally, it shows how to visualize the result and verify if points are inside the ellipse \n",
    "using the `is_inside_ellipse()` function."
   ]
  },
  {
   "cell_type": "markdown",
   "metadata": {},
   "source": [
    "Import the required packages and the 'steiner_ellipse_def()' function."
   ]
  },
  {
   "cell_type": "code",
   "execution_count": 1,
   "metadata": {},
   "outputs": [],
   "source": [
    "# Import the required packages\n",
    "import matplotlib.pyplot as plt\n",
    "import numpy as np\n",
    "\n",
    "# Import the Steiner function\n",
    "import steiner_ellipse as se"
   ]
  },
  {
   "cell_type": "markdown",
   "metadata": {},
   "source": [
    "Define the three point for which to fin the smallest ellipse."
   ]
  },
  {
   "cell_type": "code",
   "execution_count": 2,
   "metadata": {},
   "outputs": [],
   "source": [
    "p1 = (1, 0)\n",
    "p2 = (0, 1)\n",
    "p3 = (1, 1)"
   ]
  },
  {
   "cell_type": "markdown",
   "metadata": {},
   "source": [
    "Compute the ellipse definition and print it.\n",
    "\n",
    "D: matrix definition\n",
    "\n",
    "p: center of the ellipse"
   ]
  },
  {
   "cell_type": "code",
   "execution_count": 3,
   "metadata": {},
   "outputs": [
    {
     "name": "stdout",
     "output_type": "stream",
     "text": [
      "D matrix:\n",
      "[[3.  1.5]\n",
      " [1.5 3. ]]\n",
      "\n",
      "Center of the ellipse:\n",
      "[0.66666667 0.66666667]\n"
     ]
    }
   ],
   "source": [
    "D, p = se.steiner_ellipse_def(p1, p2, p3)\n",
    "\n",
    "print(\"D matrix:\")\n",
    "print(D)\n",
    "print(\"\\nCenter of the ellipse:\")\n",
    "print(p)"
   ]
  },
  {
   "cell_type": "markdown",
   "metadata": {},
   "source": [
    "Show the results.\n",
    "The orange region is found using the 'is_inside_ellipse()' function."
   ]
  },
  {
   "cell_type": "code",
   "execution_count": 4,
   "metadata": {},
   "outputs": [
    {
     "name": "stderr",
     "output_type": "stream",
     "text": [
      "C:\\Users\\Olivier\\AppData\\Local\\Temp\\ipykernel_38424\\1431750896.py:37: UserWarning: Legend does not support handles for QuadMesh instances.\n",
      "See: https://matplotlib.org/stable/tutorials/intermediate/legend_guide.html#implementing-a-custom-legend-handler\n",
      "  plt.legend()\n"
     ]
    },
    {
     "data": {
      "image/png": "[encoded data removed]",
      "text/plain": [
       "<Figure size 640x480 with 1 Axes>"
      ]
     },
     "metadata": {},
     "output_type": "display_data"
    }
   ],
   "source": [
    "density = 200  # Density of points\n",
    "x_range = np.linspace(-2, 2, density)\n",
    "y_range = np.linspace(-2, 2, density)\n",
    "\n",
    "x_mesh, y_mesh = np.meshgrid(x_range, y_range)\n",
    "point_mesh = np.stack([x_mesh, y_mesh], axis=-1)\n",
    "\n",
    "is_inside = se.is_inside_ellipse(point_mesh, D, p)\n",
    "\n",
    "# Show the interior of the ellipse\n",
    "plt.pcolormesh(\n",
    "    x_mesh,\n",
    "    y_mesh,\n",
    "    is_inside,\n",
    "    cmap=\"Wistia\",\n",
    "    label=\"Computed ellipse\",\n",
    ")\n",
    "\n",
    "# Show the initial points\n",
    "plt.scatter(\n",
    "    [p1[0], p2[0], p3[0]],\n",
    "    [p1[1], p2[1], p3[1]],\n",
    "    label=\"Initial points\",\n",
    "    marker=\"x\",\n",
    "    color=\"g\",\n",
    ")\n",
    "\n",
    "# Show the center of the ellipse\n",
    "plt.scatter(\n",
    "    *p,\n",
    "    marker=\"x\",\n",
    "    color=\"b\",\n",
    "    label=\"Center\",\n",
    ")\n",
    "\n",
    "plt.title(\"Ellipse region\")\n",
    "plt.legend()\n",
    "plt.axis(\"equal\")\n",
    "plt.show()"
   ]
  }
 ],
 "metadata": {
  "kernelspec": {
   "display_name": "Python 3",
   "language": "python",
   "name": "python3"
  },
  "language_info": {
   "codemirror_mode": {
    "name": "ipython",
    "version": 3
   },
   "file_extension": ".py",
   "mimetype": "text/x-python",
   "name": "python",
   "nbconvert_exporter": "python",
   "pygments_lexer": "ipython3",
   "version": "3.11.2"
  }
 },
 "nbformat": 4,
 "nbformat_minor": 2
}
