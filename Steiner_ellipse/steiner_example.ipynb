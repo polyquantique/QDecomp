{
 "cells": [
  {
   "cell_type": "markdown",
   "metadata": {},
   "source": [
    "# Using the `steiner_ellipse.py` module"
   ]
  },
  {
   "cell_type": "markdown",
   "metadata": {},
   "source": [
    "## Steiner algorithm\n",
    "The **Steiner algorithm** is used to find the smallest that encloses three given points: \n",
    "$\\vec{p}_1$, $\\vec{p}_2$ and $\\vec{p}_3$.\n",
    "This minimal enclosing ellipse is known as the *Steiner ellipse*, and it is centered at the \n",
    "**centroid** of the triangle formed by these three points.\n",
    "\n",
    "In this notebook, we will implement the Steiner algorithm to find the enclosing ellipse and \n",
    "visualize it. \n",
    "\n",
    "The centroid $\\vec{p}$ of the ellipse is calculated as the average of the three input points, \n",
    "ensuring that the ellipse is symmetrically centered with respect to these points. \n",
    "The resulting ellipse is the smallest possible ellipse that passes through the given points.\n",
    "\n",
    "For further details on the mathematical formulation and properties of the Steiner ellipse, you can \n",
    "refer to its [Wikipedia page](https://en.wikipedia.org/wiki/Steiner_ellipse).\n",
    "\n",
    "---"
   ]
  },
  {
   "cell_type": "markdown",
   "metadata": {},
   "source": [
    "## Matrix definition of an ellipse\n",
    "An ellipse can be defined with\n",
    "$(\\vec{u} - \\vec{p})^\\dag \\cdot D \\cdot (\\vec{u} - \\vec{p}) \\leq 1$\n",
    "where $\\vec{p}$ is the center of the ellipse and $D$ is its matrix definition.\n",
    "All the points $\\vec{u}$ that verify this equation are inside the ellipse."
   ]
  },
  {
   "cell_type": "markdown",
   "metadata": {},
   "source": [
    "## Steiner algorithm implementation\n",
    "This module contains four key functions for working with ellipses:\n",
    "\n",
    "1. **`steiner_ellipse_def()`**:  \n",
    "   This function implements the **Steiner algorithm** to find the smallest ellipse that encloses the three input points. It returns the matrix definition of the ellipse, which can be used to describe the ellipse mathematically. The returned result includes:\n",
    "   - **D**: The matrix that defines the ellipse.\n",
    "   - **p**: The center of the ellipse.\n",
    "\n",
    "2. **`plot_ellipse()`**:  \n",
    "   This function plots an ellipse using its matrix definition and its center.\n",
    "\n",
    "3. **`is_inside_ellipse()`**:  \n",
    "   This function checks whether a given point lies inside the ellipse.\n",
    "   It accepts either a single point or an array of points and returns a boolean value indicating if each point is inside the ellipse.\n",
    "\n",
    "4. **`ellipse_bbox()`**:  \n",
    "   This function finds the bounding box of an ellipse.\n",
    "   It returns the minimum and maximum values reached by the ellipse for each dimension."
   ]
  },
  {
   "cell_type": "markdown",
   "metadata": {},
   "source": [
    "### Usage example\n",
    "The following cells in this notebook demonstrate how to use the `steiner_ellipse_def()` function to compute the smallest enclosing ellipse for three points.\n",
    "The `plot_ellipse()` function is then used to plot the computed ellipse.\n",
    "Additionally, this notebook present how to verify if points are inside the ellipse using the `is_inside_ellipse()` function and how to find the bounding box of an ellipse using `ellipse_bbox()`."
   ]
  },
  {
   "cell_type": "markdown",
   "metadata": {},
   "source": [
    "Import the required packages and the 'steiner_ellipse_def()' function."
   ]
  },
  {
   "cell_type": "code",
   "execution_count": 1,
   "metadata": {},
   "outputs": [],
   "source": [
    "# Import the required packages\n",
    "import matplotlib.pyplot as plt\n",
    "import numpy as np\n",
    "\n",
    "# Import the Steiner function\n",
    "import steiner_ellipse as se"
   ]
  },
  {
   "cell_type": "markdown",
   "metadata": {},
   "source": [
    "Define the three point for which to fin the smallest ellipse."
   ]
  },
  {
   "cell_type": "code",
   "execution_count": 2,
   "metadata": {},
   "outputs": [],
   "source": [
    "p1 = (1, 0)\n",
    "p2 = (0, 1)\n",
    "p3 = (1, 1)"
   ]
  },
  {
   "cell_type": "markdown",
   "metadata": {},
   "source": [
    "Compute the ellipse definition and print it.\n",
    "\n",
    "D: matrix definition\n",
    "\n",
    "p: center of the ellipse"
   ]
  },
  {
   "cell_type": "code",
   "execution_count": 3,
   "metadata": {},
   "outputs": [
    {
     "name": "stdout",
     "output_type": "stream",
     "text": [
      "D matrix:\n",
      "[[3.  1.5]\n",
      " [1.5 3. ]]\n",
      "\n",
      "Center of the ellipse:\n",
      "[0.66666667 0.66666667]\n"
     ]
    }
   ],
   "source": [
    "D, p = se.steiner_ellipse_def(p1, p2, p3)\n",
    "\n",
    "print(\"D matrix:\")\n",
    "print(D)\n",
    "print(\"\\nCenter of the ellipse:\")\n",
    "print(p)"
   ]
  },
  {
   "cell_type": "markdown",
   "metadata": {},
   "source": [
    "Plot the resulting ellipse. The first argument is the matrix definition of the ellipse and the second is its center.\n",
    "Points can be passed as third argument (optional).\n",
    "The function will plot them in cyan if they are inside the ellipse or in magenta if they are not.\n",
    "For this example, we used the points defining the ellipse and the origin.\n",
    "\n",
    "Other than the points, the figure includes the center of the ellipse (blue star) and its bounding box (green cadre)."
   ]
  },
  {
   "cell_type": "code",
   "execution_count": 4,
   "metadata": {},
   "outputs": [
    {
     "name": "stdout",
     "output_type": "stream",
     "text": [
      "(2, 2)\n",
      "False\n",
      "(2, 2)\n",
      "False\n"
     ]
    },
    {
     "data": {
      "image/png": "[encoded data removed]",
      "text/plain": [
       "<Figure size 640x480 with 1 Axes>"
      ]
     },
     "metadata": {},
     "output_type": "display_data"
    }
   ],
   "source": [
    "points_to_plot = [p1, p2, p3, (0, 0)]\n",
    "se.plot_ellipse(D, p, points_to_plot)"
   ]
  },
  {
   "cell_type": "markdown",
   "metadata": {},
   "source": [
    "The `plot_ellipse()` function uses the `is_inside_ellipse`() function to determine wether a point is inside the ellipse or not and decide its color.\n",
    "The first argument is the list of point which may have any shape as long as the last dimension is of the same size as the ellipse (2D in our case).\n",
    "The second and third arguments are the ellipse matrix definition and center respectively.\n",
    "The function returns a boolean array specifying wether the points are inside the ellipse."
   ]
  },
  {
   "cell_type": "code",
   "execution_count": 5,
   "metadata": {},
   "outputs": [
    {
     "name": "stdout",
     "output_type": "stream",
     "text": [
      "points_to_test=[(1, 0), (0, 1), (1, 1), (0, 0)]\n",
      "(2, 2)\n",
      "False\n",
      "points_inside=array([ True,  True,  True, False])\n"
     ]
    }
   ],
   "source": [
    "# List of points to test\n",
    "points_to_test = [p1, p2, p3, (0, 0)]\n",
    "print(f\"{points_to_test=}\")\n",
    "\n",
    "# Determine which points are inside the ellipse\n",
    "points_inside = se.is_inside_ellipse(points_to_test, D, p)\n",
    "print(f\"{points_inside=}\")"
   ]
  },
  {
   "cell_type": "markdown",
   "metadata": {},
   "source": [
    "The `plot_ellipse()` function also uses the `ellipse_bbox()` function to find the bounding box of the ellipse.\n",
    "Its arguments are the array definition and center of the ellipse.\n",
    "It returns an array of shape (n_dim, 2), where n_dim is the number of dimensions of the ellipse.\n",
    "The first index corresponds to each spatial dimension (e.g., x, y, ...), and the second index contains the minimum and maximum bounds along that dimension."
   ]
  },
  {
   "cell_type": "code",
   "execution_count": 6,
   "metadata": {},
   "outputs": [
    {
     "name": "stdout",
     "output_type": "stream",
     "text": [
      "Bounding box of the ellipse:\n",
      "[[-1.11022302e-16  1.33333333e+00]\n",
      " [ 0.00000000e+00  1.33333333e+00]]\n"
     ]
    }
   ],
   "source": [
    "bbox = se.ellipse_bbox(D, p)\n",
    "print(\"Bounding box of the ellipse:\")\n",
    "print(bbox)"
   ]
  }
 ],
 "metadata": {
  "kernelspec": {
   "display_name": "Python 3",
   "language": "python",
   "name": "python3"
  },
  "language_info": {
   "codemirror_mode": {
    "name": "ipython",
    "version": 3
   },
   "file_extension": ".py",
   "mimetype": "text/x-python",
   "name": "python",
   "nbconvert_exporter": "python",
   "pygments_lexer": "ipython3",
   "version": "3.11.2"
  }
 },
 "nbformat": 4,
 "nbformat_minor": 2
}
